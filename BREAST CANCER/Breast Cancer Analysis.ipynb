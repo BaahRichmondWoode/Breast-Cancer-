{
 "cells": [
  {
   "cell_type": "markdown",
   "id": "a10105da-edf3-4194-8023-b62fcc38a392",
   "metadata": {},
   "source": [
    "## Importation fo Libraries"
   ]
  },
  {
   "cell_type": "code",
   "execution_count": 1,
   "id": "aff9ea7b",
   "metadata": {
    "is_executing": true
   },
   "outputs": [],
   "source": [
    "import pandas as pd\n",
    "import numpy as np\n",
    "from sklearn.linear_model import LogisticRegression\n",
    "from sklearn.feature_selection import RFE\n",
    "from sklearn.tree import DecisionTreeClassifier\n",
    "from sklearn.model_selection import train_test_split\n",
    "import pickle as pk"
   ]
  },
  {
   "cell_type": "markdown",
   "id": "26632d06-138c-47ea-a7b0-f55e27a60098",
   "metadata": {},
   "source": [
    "## Reading Breast Cancer dataset"
   ]
  },
  {
   "cell_type": "code",
   "execution_count": 2,
   "id": "efad459b-64bb-4115-b42b-983b06a2f852",
   "metadata": {},
   "outputs": [
    {
     "data": {
      "text/html": [
       "<div>\n",
       "<style scoped>\n",
       "    .dataframe tbody tr th:only-of-type {\n",
       "        vertical-align: middle;\n",
       "    }\n",
       "\n",
       "    .dataframe tbody tr th {\n",
       "        vertical-align: top;\n",
       "    }\n",
       "\n",
       "    .dataframe thead th {\n",
       "        text-align: right;\n",
       "    }\n",
       "</style>\n",
       "<table border=\"1\" class=\"dataframe\">\n",
       "  <thead>\n",
       "    <tr style=\"text-align: right;\">\n",
       "      <th></th>\n",
       "      <th>id</th>\n",
       "      <th>diagnosis</th>\n",
       "      <th>radius_mean</th>\n",
       "      <th>texture_mean</th>\n",
       "      <th>perimeter_mean</th>\n",
       "      <th>area_mean</th>\n",
       "      <th>smoothness_mean</th>\n",
       "      <th>compactness_mean</th>\n",
       "      <th>concavity_mean</th>\n",
       "      <th>concave points_mean</th>\n",
       "      <th>...</th>\n",
       "      <th>radius_worst</th>\n",
       "      <th>texture_worst</th>\n",
       "      <th>perimeter_worst</th>\n",
       "      <th>area_worst</th>\n",
       "      <th>smoothness_worst</th>\n",
       "      <th>compactness_worst</th>\n",
       "      <th>concavity_worst</th>\n",
       "      <th>concave points_worst</th>\n",
       "      <th>symmetry_worst</th>\n",
       "      <th>fractal_dimension_worst</th>\n",
       "    </tr>\n",
       "  </thead>\n",
       "  <tbody>\n",
       "    <tr>\n",
       "      <th>0</th>\n",
       "      <td>842302</td>\n",
       "      <td>M</td>\n",
       "      <td>17.99</td>\n",
       "      <td>10.38</td>\n",
       "      <td>122.80</td>\n",
       "      <td>1001.0</td>\n",
       "      <td>0.11840</td>\n",
       "      <td>0.27760</td>\n",
       "      <td>0.3001</td>\n",
       "      <td>0.14710</td>\n",
       "      <td>...</td>\n",
       "      <td>25.38</td>\n",
       "      <td>17.33</td>\n",
       "      <td>184.60</td>\n",
       "      <td>2019.0</td>\n",
       "      <td>0.1622</td>\n",
       "      <td>0.6656</td>\n",
       "      <td>0.7119</td>\n",
       "      <td>0.2654</td>\n",
       "      <td>0.4601</td>\n",
       "      <td>0.11890</td>\n",
       "    </tr>\n",
       "    <tr>\n",
       "      <th>1</th>\n",
       "      <td>842517</td>\n",
       "      <td>M</td>\n",
       "      <td>20.57</td>\n",
       "      <td>17.77</td>\n",
       "      <td>132.90</td>\n",
       "      <td>1326.0</td>\n",
       "      <td>0.08474</td>\n",
       "      <td>0.07864</td>\n",
       "      <td>0.0869</td>\n",
       "      <td>0.07017</td>\n",
       "      <td>...</td>\n",
       "      <td>24.99</td>\n",
       "      <td>23.41</td>\n",
       "      <td>158.80</td>\n",
       "      <td>1956.0</td>\n",
       "      <td>0.1238</td>\n",
       "      <td>0.1866</td>\n",
       "      <td>0.2416</td>\n",
       "      <td>0.1860</td>\n",
       "      <td>0.2750</td>\n",
       "      <td>0.08902</td>\n",
       "    </tr>\n",
       "    <tr>\n",
       "      <th>2</th>\n",
       "      <td>84300903</td>\n",
       "      <td>M</td>\n",
       "      <td>19.69</td>\n",
       "      <td>21.25</td>\n",
       "      <td>130.00</td>\n",
       "      <td>1203.0</td>\n",
       "      <td>0.10960</td>\n",
       "      <td>0.15990</td>\n",
       "      <td>0.1974</td>\n",
       "      <td>0.12790</td>\n",
       "      <td>...</td>\n",
       "      <td>23.57</td>\n",
       "      <td>25.53</td>\n",
       "      <td>152.50</td>\n",
       "      <td>1709.0</td>\n",
       "      <td>0.1444</td>\n",
       "      <td>0.4245</td>\n",
       "      <td>0.4504</td>\n",
       "      <td>0.2430</td>\n",
       "      <td>0.3613</td>\n",
       "      <td>0.08758</td>\n",
       "    </tr>\n",
       "    <tr>\n",
       "      <th>3</th>\n",
       "      <td>84348301</td>\n",
       "      <td>M</td>\n",
       "      <td>11.42</td>\n",
       "      <td>20.38</td>\n",
       "      <td>77.58</td>\n",
       "      <td>386.1</td>\n",
       "      <td>0.14250</td>\n",
       "      <td>0.28390</td>\n",
       "      <td>0.2414</td>\n",
       "      <td>0.10520</td>\n",
       "      <td>...</td>\n",
       "      <td>14.91</td>\n",
       "      <td>26.50</td>\n",
       "      <td>98.87</td>\n",
       "      <td>567.7</td>\n",
       "      <td>0.2098</td>\n",
       "      <td>0.8663</td>\n",
       "      <td>0.6869</td>\n",
       "      <td>0.2575</td>\n",
       "      <td>0.6638</td>\n",
       "      <td>0.17300</td>\n",
       "    </tr>\n",
       "    <tr>\n",
       "      <th>4</th>\n",
       "      <td>84358402</td>\n",
       "      <td>M</td>\n",
       "      <td>20.29</td>\n",
       "      <td>14.34</td>\n",
       "      <td>135.10</td>\n",
       "      <td>1297.0</td>\n",
       "      <td>0.10030</td>\n",
       "      <td>0.13280</td>\n",
       "      <td>0.1980</td>\n",
       "      <td>0.10430</td>\n",
       "      <td>...</td>\n",
       "      <td>22.54</td>\n",
       "      <td>16.67</td>\n",
       "      <td>152.20</td>\n",
       "      <td>1575.0</td>\n",
       "      <td>0.1374</td>\n",
       "      <td>0.2050</td>\n",
       "      <td>0.4000</td>\n",
       "      <td>0.1625</td>\n",
       "      <td>0.2364</td>\n",
       "      <td>0.07678</td>\n",
       "    </tr>\n",
       "  </tbody>\n",
       "</table>\n",
       "<p>5 rows × 32 columns</p>\n",
       "</div>"
      ],
      "text/plain": [
       "         id diagnosis  radius_mean  texture_mean  perimeter_mean  area_mean  \\\n",
       "0    842302         M        17.99         10.38          122.80     1001.0   \n",
       "1    842517         M        20.57         17.77          132.90     1326.0   \n",
       "2  84300903         M        19.69         21.25          130.00     1203.0   \n",
       "3  84348301         M        11.42         20.38           77.58      386.1   \n",
       "4  84358402         M        20.29         14.34          135.10     1297.0   \n",
       "\n",
       "   smoothness_mean  compactness_mean  concavity_mean  concave points_mean  \\\n",
       "0          0.11840           0.27760          0.3001              0.14710   \n",
       "1          0.08474           0.07864          0.0869              0.07017   \n",
       "2          0.10960           0.15990          0.1974              0.12790   \n",
       "3          0.14250           0.28390          0.2414              0.10520   \n",
       "4          0.10030           0.13280          0.1980              0.10430   \n",
       "\n",
       "   ...  radius_worst  texture_worst  perimeter_worst  area_worst  \\\n",
       "0  ...         25.38          17.33           184.60      2019.0   \n",
       "1  ...         24.99          23.41           158.80      1956.0   \n",
       "2  ...         23.57          25.53           152.50      1709.0   \n",
       "3  ...         14.91          26.50            98.87       567.7   \n",
       "4  ...         22.54          16.67           152.20      1575.0   \n",
       "\n",
       "   smoothness_worst  compactness_worst  concavity_worst  concave points_worst  \\\n",
       "0            0.1622             0.6656           0.7119                0.2654   \n",
       "1            0.1238             0.1866           0.2416                0.1860   \n",
       "2            0.1444             0.4245           0.4504                0.2430   \n",
       "3            0.2098             0.8663           0.6869                0.2575   \n",
       "4            0.1374             0.2050           0.4000                0.1625   \n",
       "\n",
       "   symmetry_worst  fractal_dimension_worst  \n",
       "0          0.4601                  0.11890  \n",
       "1          0.2750                  0.08902  \n",
       "2          0.3613                  0.08758  \n",
       "3          0.6638                  0.17300  \n",
       "4          0.2364                  0.07678  \n",
       "\n",
       "[5 rows x 32 columns]"
      ]
     },
     "execution_count": 2,
     "metadata": {},
     "output_type": "execute_result"
    }
   ],
   "source": [
    "dataset = pd.read_csv('breast-cancer.csv')\n",
    "dataset.head()"
   ]
  },
  {
   "cell_type": "code",
   "execution_count": 3,
   "id": "d90a3338-63fb-43e1-b496-a268fd3b16e8",
   "metadata": {},
   "outputs": [],
   "source": [
    "df = dataset.copy()"
   ]
  },
  {
   "cell_type": "code",
   "execution_count": 4,
   "id": "1621caf2-24bb-48d0-9f4c-5cb6c2955ea7",
   "metadata": {},
   "outputs": [],
   "source": [
    "df.drop('id',axis=1,inplace=True)"
   ]
  },
  {
   "cell_type": "markdown",
   "id": "2157f75b-4651-4f37-8e01-8df1b78786f4",
   "metadata": {},
   "source": [
    "#### Getting the dummy variables from diagnosis"
   ]
  },
  {
   "cell_type": "code",
   "execution_count": 5,
   "id": "fc7ef084-b239-4cd3-9ced-11fe9c58949a",
   "metadata": {},
   "outputs": [],
   "source": [
    "Malignant = pd.get_dummies(df.diagnosis,drop_first=True)"
   ]
  },
  {
   "cell_type": "code",
   "execution_count": 6,
   "id": "51347e90-9b1f-487b-b23c-a3b636b1841b",
   "metadata": {},
   "outputs": [],
   "source": [
    "df = pd.concat([df,Malignant],axis=1)\n",
    "df.drop('diagnosis',axis=1,inplace=True)\n",
    "df = df.rename(columns={'M':'Malignant'})"
   ]
  },
  {
   "cell_type": "code",
   "execution_count": 7,
   "id": "464f96e6",
   "metadata": {},
   "outputs": [],
   "source": [
    "X = df[df.drop('Malignant',axis=1).columns]\n",
    "y = df['Malignant']"
   ]
  },
  {
   "cell_type": "markdown",
   "id": "1bed549e",
   "metadata": {},
   "source": [
    "#### Splitting the data into Train and Test"
   ]
  },
  {
   "cell_type": "code",
   "execution_count": 8,
   "id": "d8af568b-b591-443f-a6e0-faa6ce1de977",
   "metadata": {},
   "outputs": [],
   "source": [
    "X_train, X_test, y_train, y_test = train_test_split(X, y, test_size=0.2, random_state=0)"
   ]
  },
  {
   "cell_type": "code",
   "execution_count": 9,
   "id": "5c551440-75a2-4845-bdd6-a8fd09137dd7",
   "metadata": {},
   "outputs": [
    {
     "data": {
      "text/html": [
       "<div>\n",
       "<style scoped>\n",
       "    .dataframe tbody tr th:only-of-type {\n",
       "        vertical-align: middle;\n",
       "    }\n",
       "\n",
       "    .dataframe tbody tr th {\n",
       "        vertical-align: top;\n",
       "    }\n",
       "\n",
       "    .dataframe thead th {\n",
       "        text-align: right;\n",
       "    }\n",
       "</style>\n",
       "<table border=\"1\" class=\"dataframe\">\n",
       "  <thead>\n",
       "    <tr style=\"text-align: right;\">\n",
       "      <th></th>\n",
       "      <th>radius_mean</th>\n",
       "      <th>texture_mean</th>\n",
       "      <th>perimeter_mean</th>\n",
       "      <th>area_mean</th>\n",
       "      <th>smoothness_mean</th>\n",
       "      <th>compactness_mean</th>\n",
       "      <th>concavity_mean</th>\n",
       "      <th>concave points_mean</th>\n",
       "      <th>symmetry_mean</th>\n",
       "      <th>fractal_dimension_mean</th>\n",
       "      <th>...</th>\n",
       "      <th>radius_worst</th>\n",
       "      <th>texture_worst</th>\n",
       "      <th>perimeter_worst</th>\n",
       "      <th>area_worst</th>\n",
       "      <th>smoothness_worst</th>\n",
       "      <th>compactness_worst</th>\n",
       "      <th>concavity_worst</th>\n",
       "      <th>concave points_worst</th>\n",
       "      <th>symmetry_worst</th>\n",
       "      <th>fractal_dimension_worst</th>\n",
       "    </tr>\n",
       "  </thead>\n",
       "  <tbody>\n",
       "    <tr>\n",
       "      <th>512</th>\n",
       "      <td>13.400</td>\n",
       "      <td>20.52</td>\n",
       "      <td>88.64</td>\n",
       "      <td>556.7</td>\n",
       "      <td>0.11060</td>\n",
       "      <td>0.14690</td>\n",
       "      <td>0.14450</td>\n",
       "      <td>0.08172</td>\n",
       "      <td>0.2116</td>\n",
       "      <td>0.07325</td>\n",
       "      <td>...</td>\n",
       "      <td>16.410</td>\n",
       "      <td>29.66</td>\n",
       "      <td>113.30</td>\n",
       "      <td>844.4</td>\n",
       "      <td>0.15740</td>\n",
       "      <td>0.38560</td>\n",
       "      <td>0.5106</td>\n",
       "      <td>0.20510</td>\n",
       "      <td>0.3585</td>\n",
       "      <td>0.11090</td>\n",
       "    </tr>\n",
       "    <tr>\n",
       "      <th>278</th>\n",
       "      <td>13.590</td>\n",
       "      <td>17.84</td>\n",
       "      <td>86.24</td>\n",
       "      <td>572.3</td>\n",
       "      <td>0.07948</td>\n",
       "      <td>0.04052</td>\n",
       "      <td>0.01997</td>\n",
       "      <td>0.01238</td>\n",
       "      <td>0.1573</td>\n",
       "      <td>0.05520</td>\n",
       "      <td>...</td>\n",
       "      <td>15.500</td>\n",
       "      <td>26.10</td>\n",
       "      <td>98.91</td>\n",
       "      <td>739.1</td>\n",
       "      <td>0.10500</td>\n",
       "      <td>0.07622</td>\n",
       "      <td>0.1060</td>\n",
       "      <td>0.05185</td>\n",
       "      <td>0.2335</td>\n",
       "      <td>0.06263</td>\n",
       "    </tr>\n",
       "    <tr>\n",
       "      <th>447</th>\n",
       "      <td>14.800</td>\n",
       "      <td>17.66</td>\n",
       "      <td>95.88</td>\n",
       "      <td>674.8</td>\n",
       "      <td>0.09179</td>\n",
       "      <td>0.08890</td>\n",
       "      <td>0.04069</td>\n",
       "      <td>0.02260</td>\n",
       "      <td>0.1893</td>\n",
       "      <td>0.05886</td>\n",
       "      <td>...</td>\n",
       "      <td>16.430</td>\n",
       "      <td>22.74</td>\n",
       "      <td>105.90</td>\n",
       "      <td>829.5</td>\n",
       "      <td>0.12260</td>\n",
       "      <td>0.18810</td>\n",
       "      <td>0.2060</td>\n",
       "      <td>0.08308</td>\n",
       "      <td>0.3600</td>\n",
       "      <td>0.07285</td>\n",
       "    </tr>\n",
       "    <tr>\n",
       "      <th>162</th>\n",
       "      <td>19.590</td>\n",
       "      <td>18.15</td>\n",
       "      <td>130.70</td>\n",
       "      <td>1214.0</td>\n",
       "      <td>0.11200</td>\n",
       "      <td>0.16660</td>\n",
       "      <td>0.25080</td>\n",
       "      <td>0.12860</td>\n",
       "      <td>0.2027</td>\n",
       "      <td>0.06082</td>\n",
       "      <td>...</td>\n",
       "      <td>26.730</td>\n",
       "      <td>26.39</td>\n",
       "      <td>174.90</td>\n",
       "      <td>2232.0</td>\n",
       "      <td>0.14380</td>\n",
       "      <td>0.38460</td>\n",
       "      <td>0.6810</td>\n",
       "      <td>0.22470</td>\n",
       "      <td>0.3643</td>\n",
       "      <td>0.09223</td>\n",
       "    </tr>\n",
       "    <tr>\n",
       "      <th>555</th>\n",
       "      <td>10.290</td>\n",
       "      <td>27.61</td>\n",
       "      <td>65.67</td>\n",
       "      <td>321.4</td>\n",
       "      <td>0.09030</td>\n",
       "      <td>0.07658</td>\n",
       "      <td>0.05999</td>\n",
       "      <td>0.02738</td>\n",
       "      <td>0.1593</td>\n",
       "      <td>0.06127</td>\n",
       "      <td>...</td>\n",
       "      <td>10.840</td>\n",
       "      <td>34.91</td>\n",
       "      <td>69.57</td>\n",
       "      <td>357.6</td>\n",
       "      <td>0.13840</td>\n",
       "      <td>0.17100</td>\n",
       "      <td>0.2000</td>\n",
       "      <td>0.09127</td>\n",
       "      <td>0.2226</td>\n",
       "      <td>0.08283</td>\n",
       "    </tr>\n",
       "    <tr>\n",
       "      <th>...</th>\n",
       "      <td>...</td>\n",
       "      <td>...</td>\n",
       "      <td>...</td>\n",
       "      <td>...</td>\n",
       "      <td>...</td>\n",
       "      <td>...</td>\n",
       "      <td>...</td>\n",
       "      <td>...</td>\n",
       "      <td>...</td>\n",
       "      <td>...</td>\n",
       "      <td>...</td>\n",
       "      <td>...</td>\n",
       "      <td>...</td>\n",
       "      <td>...</td>\n",
       "      <td>...</td>\n",
       "      <td>...</td>\n",
       "      <td>...</td>\n",
       "      <td>...</td>\n",
       "      <td>...</td>\n",
       "      <td>...</td>\n",
       "      <td>...</td>\n",
       "    </tr>\n",
       "    <tr>\n",
       "      <th>70</th>\n",
       "      <td>18.940</td>\n",
       "      <td>21.31</td>\n",
       "      <td>123.60</td>\n",
       "      <td>1130.0</td>\n",
       "      <td>0.09009</td>\n",
       "      <td>0.10290</td>\n",
       "      <td>0.10800</td>\n",
       "      <td>0.07951</td>\n",
       "      <td>0.1582</td>\n",
       "      <td>0.05461</td>\n",
       "      <td>...</td>\n",
       "      <td>24.860</td>\n",
       "      <td>26.58</td>\n",
       "      <td>165.90</td>\n",
       "      <td>1866.0</td>\n",
       "      <td>0.11930</td>\n",
       "      <td>0.23360</td>\n",
       "      <td>0.2687</td>\n",
       "      <td>0.17890</td>\n",
       "      <td>0.2551</td>\n",
       "      <td>0.06589</td>\n",
       "    </tr>\n",
       "    <tr>\n",
       "      <th>277</th>\n",
       "      <td>18.810</td>\n",
       "      <td>19.98</td>\n",
       "      <td>120.90</td>\n",
       "      <td>1102.0</td>\n",
       "      <td>0.08923</td>\n",
       "      <td>0.05884</td>\n",
       "      <td>0.08020</td>\n",
       "      <td>0.05843</td>\n",
       "      <td>0.1550</td>\n",
       "      <td>0.04996</td>\n",
       "      <td>...</td>\n",
       "      <td>19.960</td>\n",
       "      <td>24.30</td>\n",
       "      <td>129.00</td>\n",
       "      <td>1236.0</td>\n",
       "      <td>0.12430</td>\n",
       "      <td>0.11600</td>\n",
       "      <td>0.2210</td>\n",
       "      <td>0.12940</td>\n",
       "      <td>0.2567</td>\n",
       "      <td>0.05737</td>\n",
       "    </tr>\n",
       "    <tr>\n",
       "      <th>9</th>\n",
       "      <td>12.460</td>\n",
       "      <td>24.04</td>\n",
       "      <td>83.97</td>\n",
       "      <td>475.9</td>\n",
       "      <td>0.11860</td>\n",
       "      <td>0.23960</td>\n",
       "      <td>0.22730</td>\n",
       "      <td>0.08543</td>\n",
       "      <td>0.2030</td>\n",
       "      <td>0.08243</td>\n",
       "      <td>...</td>\n",
       "      <td>15.090</td>\n",
       "      <td>40.68</td>\n",
       "      <td>97.65</td>\n",
       "      <td>711.4</td>\n",
       "      <td>0.18530</td>\n",
       "      <td>1.05800</td>\n",
       "      <td>1.1050</td>\n",
       "      <td>0.22100</td>\n",
       "      <td>0.4366</td>\n",
       "      <td>0.20750</td>\n",
       "    </tr>\n",
       "    <tr>\n",
       "      <th>359</th>\n",
       "      <td>9.436</td>\n",
       "      <td>18.32</td>\n",
       "      <td>59.82</td>\n",
       "      <td>278.6</td>\n",
       "      <td>0.10090</td>\n",
       "      <td>0.05956</td>\n",
       "      <td>0.02710</td>\n",
       "      <td>0.01406</td>\n",
       "      <td>0.1506</td>\n",
       "      <td>0.06959</td>\n",
       "      <td>...</td>\n",
       "      <td>12.020</td>\n",
       "      <td>25.02</td>\n",
       "      <td>75.79</td>\n",
       "      <td>439.6</td>\n",
       "      <td>0.13330</td>\n",
       "      <td>0.10490</td>\n",
       "      <td>0.1144</td>\n",
       "      <td>0.05052</td>\n",
       "      <td>0.2454</td>\n",
       "      <td>0.08136</td>\n",
       "    </tr>\n",
       "    <tr>\n",
       "      <th>192</th>\n",
       "      <td>9.720</td>\n",
       "      <td>18.22</td>\n",
       "      <td>60.73</td>\n",
       "      <td>288.1</td>\n",
       "      <td>0.06950</td>\n",
       "      <td>0.02344</td>\n",
       "      <td>0.00000</td>\n",
       "      <td>0.00000</td>\n",
       "      <td>0.1653</td>\n",
       "      <td>0.06447</td>\n",
       "      <td>...</td>\n",
       "      <td>9.968</td>\n",
       "      <td>20.83</td>\n",
       "      <td>62.25</td>\n",
       "      <td>303.8</td>\n",
       "      <td>0.07117</td>\n",
       "      <td>0.02729</td>\n",
       "      <td>0.0000</td>\n",
       "      <td>0.00000</td>\n",
       "      <td>0.1909</td>\n",
       "      <td>0.06559</td>\n",
       "    </tr>\n",
       "  </tbody>\n",
       "</table>\n",
       "<p>446 rows × 30 columns</p>\n",
       "</div>"
      ],
      "text/plain": [
       "     radius_mean  texture_mean  perimeter_mean  area_mean  smoothness_mean  \\\n",
       "512       13.400         20.52           88.64      556.7          0.11060   \n",
       "278       13.590         17.84           86.24      572.3          0.07948   \n",
       "447       14.800         17.66           95.88      674.8          0.09179   \n",
       "162       19.590         18.15          130.70     1214.0          0.11200   \n",
       "555       10.290         27.61           65.67      321.4          0.09030   \n",
       "..           ...           ...             ...        ...              ...   \n",
       "70        18.940         21.31          123.60     1130.0          0.09009   \n",
       "277       18.810         19.98          120.90     1102.0          0.08923   \n",
       "9         12.460         24.04           83.97      475.9          0.11860   \n",
       "359        9.436         18.32           59.82      278.6          0.10090   \n",
       "192        9.720         18.22           60.73      288.1          0.06950   \n",
       "\n",
       "     compactness_mean  concavity_mean  concave points_mean  symmetry_mean  \\\n",
       "512           0.14690         0.14450              0.08172         0.2116   \n",
       "278           0.04052         0.01997              0.01238         0.1573   \n",
       "447           0.08890         0.04069              0.02260         0.1893   \n",
       "162           0.16660         0.25080              0.12860         0.2027   \n",
       "555           0.07658         0.05999              0.02738         0.1593   \n",
       "..                ...             ...                  ...            ...   \n",
       "70            0.10290         0.10800              0.07951         0.1582   \n",
       "277           0.05884         0.08020              0.05843         0.1550   \n",
       "9             0.23960         0.22730              0.08543         0.2030   \n",
       "359           0.05956         0.02710              0.01406         0.1506   \n",
       "192           0.02344         0.00000              0.00000         0.1653   \n",
       "\n",
       "     fractal_dimension_mean  ...  radius_worst  texture_worst  \\\n",
       "512                 0.07325  ...        16.410          29.66   \n",
       "278                 0.05520  ...        15.500          26.10   \n",
       "447                 0.05886  ...        16.430          22.74   \n",
       "162                 0.06082  ...        26.730          26.39   \n",
       "555                 0.06127  ...        10.840          34.91   \n",
       "..                      ...  ...           ...            ...   \n",
       "70                  0.05461  ...        24.860          26.58   \n",
       "277                 0.04996  ...        19.960          24.30   \n",
       "9                   0.08243  ...        15.090          40.68   \n",
       "359                 0.06959  ...        12.020          25.02   \n",
       "192                 0.06447  ...         9.968          20.83   \n",
       "\n",
       "     perimeter_worst  area_worst  smoothness_worst  compactness_worst  \\\n",
       "512           113.30       844.4           0.15740            0.38560   \n",
       "278            98.91       739.1           0.10500            0.07622   \n",
       "447           105.90       829.5           0.12260            0.18810   \n",
       "162           174.90      2232.0           0.14380            0.38460   \n",
       "555            69.57       357.6           0.13840            0.17100   \n",
       "..               ...         ...               ...                ...   \n",
       "70            165.90      1866.0           0.11930            0.23360   \n",
       "277           129.00      1236.0           0.12430            0.11600   \n",
       "9              97.65       711.4           0.18530            1.05800   \n",
       "359            75.79       439.6           0.13330            0.10490   \n",
       "192            62.25       303.8           0.07117            0.02729   \n",
       "\n",
       "     concavity_worst  concave points_worst  symmetry_worst  \\\n",
       "512           0.5106               0.20510          0.3585   \n",
       "278           0.1060               0.05185          0.2335   \n",
       "447           0.2060               0.08308          0.3600   \n",
       "162           0.6810               0.22470          0.3643   \n",
       "555           0.2000               0.09127          0.2226   \n",
       "..               ...                   ...             ...   \n",
       "70            0.2687               0.17890          0.2551   \n",
       "277           0.2210               0.12940          0.2567   \n",
       "9             1.1050               0.22100          0.4366   \n",
       "359           0.1144               0.05052          0.2454   \n",
       "192           0.0000               0.00000          0.1909   \n",
       "\n",
       "     fractal_dimension_worst  \n",
       "512                  0.11090  \n",
       "278                  0.06263  \n",
       "447                  0.07285  \n",
       "162                  0.09223  \n",
       "555                  0.08283  \n",
       "..                       ...  \n",
       "70                   0.06589  \n",
       "277                  0.05737  \n",
       "9                    0.20750  \n",
       "359                  0.08136  \n",
       "192                  0.06559  \n",
       "\n",
       "[446 rows x 30 columns]"
      ]
     },
     "execution_count": 9,
     "metadata": {},
     "output_type": "execute_result"
    }
   ],
   "source": [
    "X_train"
   ]
  },
  {
   "cell_type": "code",
   "execution_count": 10,
   "id": "b4ef7321-a794-4a5d-b8eb-130a2f19c9a9",
   "metadata": {},
   "outputs": [],
   "source": [
    "Trained_dataset = pd.concat([X_train,y_train],axis=1)\n",
    "Trained_dataset = Trained_dataset.reset_index(drop=True)"
   ]
  },
  {
   "cell_type": "code",
   "execution_count": null,
   "id": "d3ac2826",
   "metadata": {},
   "outputs": [],
   "source": []
  },
  {
   "cell_type": "markdown",
   "id": "f90a5670",
   "metadata": {},
   "source": [
    "## Checking for imbalance learning"
   ]
  },
  {
   "cell_type": "code",
   "execution_count": 11,
   "id": "5ef7cfa9",
   "metadata": {},
   "outputs": [
    {
     "data": {
      "text/plain": [
       "0    271\n",
       "1    175\n",
       "Name: Malignant, dtype: int64"
      ]
     },
     "execution_count": 11,
     "metadata": {},
     "output_type": "execute_result"
    }
   ],
   "source": [
    "Trained_dataset.Malignant.value_counts()"
   ]
  },
  {
   "cell_type": "code",
   "execution_count": 12,
   "id": "e7e3ff4d",
   "metadata": {},
   "outputs": [],
   "source": [
    "_1 = Trained_dataset[Trained_dataset['Malignant'] == 1].sample(175)\n",
    "_0 = Trained_dataset[Trained_dataset['Malignant'] == 0].sample(175)\n",
    "Trained_dataset = pd.concat([_0,_1]).reset_index(drop=True)\n",
    "DataColumns = Trained_dataset.drop('Malignant',axis=1).columns"
   ]
  },
  {
   "cell_type": "markdown",
   "id": "c5529c61-16fe-41a3-b704-9236aeadc32a",
   "metadata": {},
   "source": [
    "### Logistic Regression"
   ]
  },
  {
   "cell_type": "markdown",
   "id": "3992f902-d525-4e3d-bb0d-e1f6063ba360",
   "metadata": {},
   "source": [
    "#### Feature selections using Logistic Regression Model"
   ]
  },
  {
   "cell_type": "code",
   "execution_count": 13,
   "id": "15ea4027-55ba-4df6-8203-72519ec87257",
   "metadata": {},
   "outputs": [],
   "source": [
    "rfe1 = RFE(LogisticRegression(),n_features_to_select=4)\n",
    "fitted = rfe1.fit(Trained_dataset.drop('Malignant',axis=1),Trained_dataset['Malignant'])\n",
    "RanksLogistic = fitted.ranking_\n",
    "LogisticRanks=fitted.ranking_\n",
    "FTLogistic=pd.concat([Trained_dataset[[DataColumns[i] for i,j in enumerate(RanksLogistic) if j==1]],Trained_dataset['Malignant']],axis=1)"
   ]
  },
  {
   "cell_type": "markdown",
   "id": "9ea62397",
   "metadata": {},
   "source": [
    "#### Fitting the logistic regression using the featured dataset"
   ]
  },
  {
   "cell_type": "code",
   "execution_count": 50,
   "id": "be0f4297",
   "metadata": {},
   "outputs": [
    {
     "data": {
      "text/plain": [
       "LogisticRegression()"
      ]
     },
     "execution_count": 50,
     "metadata": {},
     "output_type": "execute_result"
    }
   ],
   "source": [
    "lr = LogisticRegression()\n",
    "lr.fit(FTLogistic.drop('Malignant',axis=1),FTLogistic['Malignant'])"
   ]
  },
  {
   "cell_type": "markdown",
   "id": "0409d877",
   "metadata": {},
   "source": [
    "#### Getting the testing dataset according to the featured selected"
   ]
  },
  {
   "cell_type": "code",
   "execution_count": 36,
   "id": "a0f21145",
   "metadata": {},
   "outputs": [],
   "source": [
    "def FeatureSelectionLogistic(Dataset,TrainedFeature = ['radius_mean','concavity_mean','concavity_worst','concave points_worst']):\n",
    "    return Dataset[TrainedFeature]\n",
    "X_test_Logistic = FeatureSelectionLogistic(X_test)"
   ]
  },
  {
   "cell_type": "markdown",
   "id": "6f13783e",
   "metadata": {},
   "source": [
    "#### Predicting the testing dataset and model evaluation"
   ]
  },
  {
   "cell_type": "code",
   "execution_count": 70,
   "id": "503095d9",
   "metadata": {},
   "outputs": [],
   "source": [
    "y_predict_logistic = lr.predict(X_test_Logistic)\n",
    "from sklearn.metrics import accuracy_score, f1_score,confusion_matrix,precision_score,recall_score\n",
    "import seaborn as sns"
   ]
  },
  {
   "cell_type": "code",
   "execution_count": 77,
   "id": "f6e096b7",
   "metadata": {},
   "outputs": [
    {
     "data": {
      "text/html": [
       "<div>\n",
       "<style scoped>\n",
       "    .dataframe tbody tr th:only-of-type {\n",
       "        vertical-align: middle;\n",
       "    }\n",
       "\n",
       "    .dataframe tbody tr th {\n",
       "        vertical-align: top;\n",
       "    }\n",
       "\n",
       "    .dataframe thead th {\n",
       "        text-align: right;\n",
       "    }\n",
       "</style>\n",
       "<table border=\"1\" class=\"dataframe\">\n",
       "  <thead>\n",
       "    <tr style=\"text-align: right;\">\n",
       "      <th></th>\n",
       "      <th>Recall Score</th>\n",
       "      <th>Precision Score</th>\n",
       "      <th>Accuracy Score</th>\n",
       "      <th>F1 Score</th>\n",
       "    </tr>\n",
       "  </thead>\n",
       "  <tbody>\n",
       "    <tr>\n",
       "      <th>0</th>\n",
       "      <td>1.0</td>\n",
       "      <td>0.885714</td>\n",
       "      <td>0.964286</td>\n",
       "      <td>0.939394</td>\n",
       "    </tr>\n",
       "  </tbody>\n",
       "</table>\n",
       "</div>"
      ],
      "text/plain": [
       "   Recall Score  Precision Score  Accuracy Score  F1 Score\n",
       "0           1.0         0.885714        0.964286  0.939394"
      ]
     },
     "execution_count": 77,
     "metadata": {},
     "output_type": "execute_result"
    }
   ],
   "source": [
    "metrics = {'Recall Score':[recall_score(y_test,y_predict_logistic)],\n",
    "'Precision Score':[precision_score(y_test,y_predict_logistic)],\n",
    "'Accuracy Score':[accuracy_score(y_test,y_predict_logistic)],\n",
    "'F1 Score':[f1_score(y_test,y_predict_logistic)]}\n",
    "pd.DataFrame(data = metrics)"
   ]
  },
  {
   "cell_type": "code",
   "execution_count": 68,
   "id": "073c32ec",
   "metadata": {},
   "outputs": [
    {
     "data": {
      "text/plain": [
       "<AxesSubplot:>"
      ]
     },
     "execution_count": 68,
     "metadata": {},
     "output_type": "execute_result"
    },
    {
     "data": {
      "image/png": "[encoded data removed]",
      "text/plain": [
       "<Figure size 640x480 with 2 Axes>"
      ]
     },
     "metadata": {},
     "output_type": "display_data"
    }
   ],
   "source": [
    "sns.heatmap(confusion_matrix(y_test,y_predict_logistic),annot=True)"
   ]
  },
  {
   "cell_type": "markdown",
   "id": "77aba2de",
   "metadata": {},
   "source": [
    "#### Deploying the model using pickle"
   ]
  },
  {
   "cell_type": "code",
   "execution_count": 41,
   "id": "43f78a40",
   "metadata": {},
   "outputs": [],
   "source": [
    "with open('LogisticModel.pkl','wb') as f:\n",
    "    pk.dump(lr,f)"
   ]
  },
  {
   "cell_type": "markdown",
   "id": "5b4e6d90-6e7b-4d09-9bf1-62445583827e",
   "metadata": {},
   "source": [
    "### Decision Tree Model"
   ]
  },
  {
   "cell_type": "markdown",
   "id": "39c0ae97-0e69-46b0-8008-27dee03555b3",
   "metadata": {},
   "source": [
    "### Feature Selection using Decision tree model"
   ]
  },
  {
   "cell_type": "code",
   "execution_count": 45,
   "id": "084e44cd-7e44-448e-b9bc-71ef52337d7a",
   "metadata": {},
   "outputs": [],
   "source": [
    "rfe2 = RFE(DecisionTreeClassifier(),n_features_to_select=4)\n",
    "fitted1 = rfe2.fit(Trained_dataset.drop(['Malignant'],axis=1),Trained_dataset['Malignant'])\n",
    "RankDecision = fitted1.ranking_\n",
    "FTDecision=pd.concat([Trained_dataset[[DataColumns[i] for i,j in enumerate(RankDecision) if j==1]],Trained_dataset['Malignant']],axis=1)"
   ]
  },
  {
   "cell_type": "markdown",
   "id": "7744fecc",
   "metadata": {},
   "source": [
    "#### Fitting the decision model with the featured dataset"
   ]
  },
  {
   "cell_type": "code",
   "execution_count": 55,
   "id": "8657f9ea-ae03-4206-bd22-7fe0aa176666",
   "metadata": {},
   "outputs": [
    {
     "data": {
      "text/plain": [
       "DecisionTreeClassifier()"
      ]
     },
     "execution_count": 55,
     "metadata": {},
     "output_type": "execute_result"
    }
   ],
   "source": [
    "dt = DecisionTreeClassifier()\n",
    "dt.fit(FTDecision.drop('Malignant',axis=1),FTDecision['Malignant'])"
   ]
  },
  {
   "cell_type": "markdown",
   "id": "176fe07a",
   "metadata": {},
   "source": [
    "#### Getting the test dataset for prediction and evaluation"
   ]
  },
  {
   "cell_type": "code",
   "execution_count": 79,
   "id": "2362ab99-3c3f-4127-96df-ab845e4f4a21",
   "metadata": {},
   "outputs": [],
   "source": [
    "def FeatureSelectionDecision(Dataset,TrainedFeature = ['concave points_mean','radius_worst','texture_worst','concavity_worst']):\n",
    "    return Dataset[TrainedFeature]\n",
    "X_test_Decision = FeatureSelectionDecision(X_test)\n",
    "y_pre=dt.predict(X_test_Decision)"
   ]
  },
  {
   "cell_type": "code",
   "execution_count": 80,
   "id": "6bf2226c",
   "metadata": {},
   "outputs": [
    {
     "data": {
      "text/html": [
       "<div>\n",
       "<style scoped>\n",
       "    .dataframe tbody tr th:only-of-type {\n",
       "        vertical-align: middle;\n",
       "    }\n",
       "\n",
       "    .dataframe tbody tr th {\n",
       "        vertical-align: top;\n",
       "    }\n",
       "\n",
       "    .dataframe thead th {\n",
       "        text-align: right;\n",
       "    }\n",
       "</style>\n",
       "<table border=\"1\" class=\"dataframe\">\n",
       "  <thead>\n",
       "    <tr style=\"text-align: right;\">\n",
       "      <th></th>\n",
       "      <th>Recall Score</th>\n",
       "      <th>Precision Score</th>\n",
       "      <th>Accuracy Score</th>\n",
       "      <th>F1 Score</th>\n",
       "    </tr>\n",
       "  </thead>\n",
       "  <tbody>\n",
       "    <tr>\n",
       "      <th>0</th>\n",
       "      <td>0.967742</td>\n",
       "      <td>0.833333</td>\n",
       "      <td>0.9375</td>\n",
       "      <td>0.895522</td>\n",
       "    </tr>\n",
       "  </tbody>\n",
       "</table>\n",
       "</div>"
      ],
      "text/plain": [
       "   Recall Score  Precision Score  Accuracy Score  F1 Score\n",
       "0      0.967742         0.833333          0.9375  0.895522"
      ]
     },
     "execution_count": 80,
     "metadata": {},
     "output_type": "execute_result"
    }
   ],
   "source": [
    "metrics = {'Recall Score':[recall_score(y_test,y_pre)],\n",
    "'Precision Score':[precision_score(y_test,y_pre)],\n",
    "'Accuracy Score':[accuracy_score(y_test,y_pre)],\n",
    "'F1 Score':[f1_score(y_test,y_pre)]}\n",
    "pd.DataFrame(data = metrics)"
   ]
  },
  {
   "cell_type": "code",
   "execution_count": 81,
   "id": "1049212c",
   "metadata": {},
   "outputs": [
    {
     "data": {
      "text/plain": [
       "<AxesSubplot:>"
      ]
     },
     "execution_count": 81,
     "metadata": {},
     "output_type": "execute_result"
    },
    {
     "data": {
      "image/png": "[encoded data removed]",
      "text/plain": [
       "<Figure size 640x480 with 2 Axes>"
      ]
     },
     "metadata": {},
     "output_type": "display_data"
    }
   ],
   "source": [
    "sns.heatmap(confusion_matrix(y_test,y_pre),annot=True)"
   ]
  },
  {
   "cell_type": "markdown",
   "id": "1fd62dbd",
   "metadata": {},
   "source": [
    "#### Deployig the model using pickle"
   ]
  },
  {
   "cell_type": "code",
   "execution_count": 57,
   "id": "15491cd4",
   "metadata": {},
   "outputs": [],
   "source": [
    "with open('DecisionTree.pkl','wb') as f:\n",
    "    pk.dump(dt,f)"
   ]
  }
 ],
 "metadata": {
  "kernelspec": {
   "display_name": "Python 3 (ipykernel)",
   "language": "python",
   "name": "python3"
  },
  "language_info": {
   "codemirror_mode": {
    "name": "ipython",
    "version": 3
   },
   "file_extension": ".py",
   "mimetype": "text/x-python",
   "name": "python",
   "nbconvert_exporter": "python",
   "pygments_lexer": "ipython3",
   "version": "3.9.13"
  }
 },
 "nbformat": 4,
 "nbformat_minor": 5
}
